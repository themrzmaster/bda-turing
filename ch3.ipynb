{
 "cells": [
  {
   "cell_type": "code",
   "execution_count": null,
   "metadata": {},
   "outputs": [],
   "source": [
    "using Turing, MCMCChains, LinearAlgebra\n",
    "using Plots, StatsPlots, StatsFuns\n",
    "using Distributions"
   ]
  },
  {
   "cell_type": "code",
   "execution_count": null,
   "metadata": {},
   "outputs": [],
   "source": [
    "numbs = \"\"\"28 26 33 24 34 -44 27 16 40 -2 29 22 24 21 25 30 23 29 31 19 24 20 36 32 36 28 25 21 28 29 37 25 28 26 30 32 36 26 30 22 36 23 27 27 28 27 31 27 26 33 26 32 32 24 39 28 24 25 32 25 29 27 28 29 16 23\"\"\"\n",
    "numbers = []\n",
    "for i in split(numbs, \" \")\n",
    "    if i != \" \"\n",
    "        push!(numbers, parse(Int, i))\n",
    "    end\n",
    "end      "
   ]
  },
  {
   "cell_type": "code",
   "execution_count": null,
   "metadata": {},
   "outputs": [],
   "source": [
    "@model model_1(y) = begin\n",
    "    mu ~ Uniform(10, 30)\n",
    "    sigma ~ Uniform(0, 20)\n",
    "    y ~ Normal(mu, sigma)\n",
    "end"
   ]
  },
  {
   "cell_type": "code",
   "execution_count": null,
   "metadata": {},
   "outputs": [],
   "source": [
    "model = model_1(numbers)\n",
    "chain = sample(model, NUTS(), 3_000);"
   ]
  },
  {
   "cell_type": "code",
   "execution_count": null,
   "metadata": {},
   "outputs": [],
   "source": [
    "plot(chain)"
   ]
  },
  {
   "cell_type": "code",
   "execution_count": null,
   "metadata": {},
   "outputs": [],
   "source": [
    "obs = [727, 583, 137]"
   ]
  },
  {
   "cell_type": "code",
   "execution_count": null,
   "metadata": {},
   "outputs": [],
   "source": [
    "@model model_3(y) = begin\n",
    "    theta1 ~ Uniform(0, 1)\n",
    "    theta2 ~ Uniform(0, 1)\n",
    "    theta3 ~ Uniform(0, 1)\n",
    "    \n",
    "    p = [theta1, theta2, theta3]\n",
    "    p = p / sum(p)\n",
    "    diff = theta1 - theta2\n",
    "    y ~ Multinomial(sum(y), p)\n",
    "    \n",
    "end"
   ]
  },
  {
   "cell_type": "code",
   "execution_count": null,
   "metadata": {},
   "outputs": [],
   "source": [
    "model = model_3(obs)\n",
    "chain = sample(model, NUTS(), 30000);"
   ]
  },
  {
   "cell_type": "code",
   "execution_count": null,
   "metadata": {},
   "outputs": [],
   "source": [
    "plot(chain)"
   ]
  },
  {
   "cell_type": "code",
   "execution_count": null,
   "metadata": {},
   "outputs": [],
   "source": [
    "@model model_4(y) = begin\n",
    "    theta ~ Dirichlet(ones(size(y)))\n",
    "    y ~ Multinomial(sum(y), theta)\n",
    "end"
   ]
  },
  {
   "cell_type": "code",
   "execution_count": null,
   "metadata": {},
   "outputs": [],
   "source": [
    "model = model_4(obs)\n",
    "chain = sample(model, NUTS(), 30000);"
   ]
  },
  {
   "cell_type": "code",
   "execution_count": null,
   "metadata": {},
   "outputs": [],
   "source": [
    "plot(chain)"
   ]
  },
  {
   "cell_type": "code",
   "execution_count": null,
   "metadata": {},
   "outputs": [],
   "source": [
    "x_dose = [-0.86, -0.3, -0.05, 0.73]\n",
    "n_anim = [5, 5, 5, 5]\n",
    "y_deat = [0, 1, 3, 5]"
   ]
  },
  {
   "cell_type": "code",
   "execution_count": null,
   "metadata": {},
   "outputs": [],
   "source": [
    "invlogit(x) = exp(x)/(1 + exp(x))\n",
    "@model model_5(n, x, y) = begin\n",
    "    alpha ~ Uniform(-5, 7)\n",
    "    beta ~ Uniform(0, 50)\n",
    "    for i in 1:size(x)[1]\n",
    "        theta = invlogit(alpha + beta * x[i])\n",
    "        y[i] ~ Binomial(n[i], theta)\n",
    "    end\n",
    "    \n",
    "end"
   ]
  },
  {
   "cell_type": "code",
   "execution_count": null,
   "metadata": {},
   "outputs": [],
   "source": [
    "model = model_5(n_anim, x_dose, y_deat)\n",
    "\n",
    "chain = sample(model, NUTS(), 30000);"
   ]
  },
  {
   "cell_type": "code",
   "execution_count": null,
   "metadata": {},
   "outputs": [],
   "source": [
    "plot(chain)"
   ]
  },
  {
   "cell_type": "code",
   "execution_count": null,
   "metadata": {},
   "outputs": [],
   "source": []
  }
 ],
 "metadata": {
  "kernelspec": {
   "display_name": "Julia 1.5.3",
   "language": "julia",
   "name": "julia-1.5"
  },
  "language_info": {
   "file_extension": ".jl",
   "mimetype": "application/julia",
   "name": "julia",
   "version": "1.5.3"
  }
 },
 "nbformat": 4,
 "nbformat_minor": 4
}
